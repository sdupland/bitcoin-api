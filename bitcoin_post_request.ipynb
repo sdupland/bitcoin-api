{
 "cells": [
  {
   "cell_type": "code",
   "execution_count": 15,
   "metadata": {},
   "outputs": [
    {
     "data": {
      "text/plain": [
       "{'futur_price': 60447.79694847072, 'last_price': 62516.609375}"
      ]
     },
     "execution_count": 15,
     "metadata": {},
     "output_type": "execute_result"
    }
   ],
   "source": [
    "# import necessary library\n",
    "import requests\n",
    "\n",
    "payload={\"Model\" : \"Linear regression\"}\n",
    "\n",
    "# request used when api is deployed on heroku\n",
    "# r = requests.post(\"https://getaround-api-sndd-b23920c55a69.herokuapp.com/predict\", json=payload).json()\n",
    "\n",
    "# request used in local\n",
    "r = requests.post(\"http://localhost:4000/predict\", json=payload).json()\n",
    "\n",
    "# show result of our request\n",
    "r"
   ]
  },
  {
   "cell_type": "code",
   "execution_count": 16,
   "metadata": {},
   "outputs": [
    {
     "data": {
      "text/plain": [
       "60447.79694847072"
      ]
     },
     "execution_count": 16,
     "metadata": {},
     "output_type": "execute_result"
    }
   ],
   "source": [
    "r[\"futur_price\"]"
   ]
  }
 ],
 "metadata": {
  "kernelspec": {
   "display_name": "Python 3",
   "language": "python",
   "name": "python3"
  },
  "language_info": {
   "codemirror_mode": {
    "name": "ipython",
    "version": 3
   },
   "file_extension": ".py",
   "mimetype": "text/x-python",
   "name": "python",
   "nbconvert_exporter": "python",
   "pygments_lexer": "ipython3",
   "version": "3.11.8"
  }
 },
 "nbformat": 4,
 "nbformat_minor": 2
}
