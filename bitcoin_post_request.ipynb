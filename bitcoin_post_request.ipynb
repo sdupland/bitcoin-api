{
 "cells": [
  {
   "cell_type": "code",
   "execution_count": 1,
   "metadata": {},
   "outputs": [],
   "source": [
    "# import necessary library\n",
    "import requests"
   ]
  },
  {
   "cell_type": "code",
   "execution_count": 3,
   "metadata": {},
   "outputs": [
    {
     "data": {
      "text/plain": [
       "{'Model': 'Linear regression', 'futur_price': 61303.48, 'last_price': 63659.03}"
      ]
     },
     "execution_count": 3,
     "metadata": {},
     "output_type": "execute_result"
    }
   ],
   "source": [
    "payload={\"Model\" : \"Linear regression\"}\n",
    "\n",
    "# request used when api is deployed on heroku\n",
    "r = requests.post(\"https://bitcoin-api-1f113f1280ef.herokuapp.com/predict\", json=payload).json()\n",
    "\n",
    "# request used in local\n",
    "# r = requests.post(\"http://localhost:4000/predict\", json=payload).json()\n",
    "\n",
    "# show result of our request\n",
    "r"
   ]
  },
  {
   "cell_type": "code",
   "execution_count": 2,
   "metadata": {},
   "outputs": [
    {
     "data": {
      "text/plain": [
       "{'Model': 'XGBoost', 'futur_price': 61720.88, 'last_price': 63659.03}"
      ]
     },
     "execution_count": 2,
     "metadata": {},
     "output_type": "execute_result"
    }
   ],
   "source": [
    "payload={\"Model\" : \"XGBoost\"}\n",
    "\n",
    "# request used when api is deployed on heroku\n",
    "r = requests.post(\"https://bitcoin-api-1f113f1280ef.herokuapp.com/predict\", json=payload).json()\n",
    "\n",
    "# request used in local\n",
    "# r = requests.post(\"http://localhost:4000/predict\", json=payload).json()\n",
    "\n",
    "# show result of our request\n",
    "r"
   ]
  },
  {
   "cell_type": "code",
   "execution_count": 4,
   "metadata": {},
   "outputs": [
    {
     "data": {
      "text/plain": [
       "{'Model': 'Elastic net', 'futur_price': 61663.0, 'last_price': 63659.03}"
      ]
     },
     "execution_count": 4,
     "metadata": {},
     "output_type": "execute_result"
    }
   ],
   "source": [
    "payload={\"Model\" : \"Elastic net\"}\n",
    "\n",
    "# request used when api is deployed on heroku\n",
    "r = requests.post(\"https://bitcoin-api-1f113f1280ef.herokuapp.com/predict\", json=payload).json()\n",
    "\n",
    "# request used in local\n",
    "# r = requests.post(\"http://localhost:4000/predict\", json=payload).json()\n",
    "\n",
    "# show result of our request\n",
    "r"
   ]
  }
 ],
 "metadata": {
  "kernelspec": {
   "display_name": "Python 3",
   "language": "python",
   "name": "python3"
  },
  "language_info": {
   "codemirror_mode": {
    "name": "ipython",
    "version": 3
   },
   "file_extension": ".py",
   "mimetype": "text/x-python",
   "name": "python",
   "nbconvert_exporter": "python",
   "pygments_lexer": "ipython3",
   "version": "3.11.8"
  }
 },
 "nbformat": 4,
 "nbformat_minor": 2
}
